{
 "cells": [
  {
   "cell_type": "markdown",
   "metadata": {},
   "source": [
    "# Convolutional neural networks\n",
    "\n",
    "In this notebook, we'll put together our convolutional layers to implement a 3-layer CNN.  Then, we'll ask you to implement a CNN that can achieve > 65% validation error on CIFAR-10.\n",
    "\n",
    "CS231n has built a solid API for building these modular frameworks and training them, and we will use their very well implemented framework as opposed to \"reinventing the wheel.\"  This includes using their Solver, various utility functions, their layer structure, and their implementation of fast CNN layers.  This also includes nndl.fc_net, nndl.layers, and nndl.layer_utils.  As in prior assignments, we thank Serena Yeung & Justin Johnson for permission to use code written for the CS 231n class (cs231n.stanford.edu).  \n",
    "\n",
    "If you have not completed the Spatial BatchNorm Notebook, please see the following description from that notebook:\n",
    "\n",
    "Please copy and paste your prior implemented code from HW #4 to start this assignment.  If you did not correctly implement the layers in HW #4, you may collaborate with a classmate to use their layer implementations from HW #4.  You may also visit TA or Prof OH to correct your implementation.  \n",
    "\n",
    "You'll want to copy and paste from HW #4:\n",
    "    - layers.py for your FC network layers, as well as batchnorm and dropout.\n",
    "    - layer_utils.py for your combined FC network layers.\n",
    "    - optim.py for your optimizers.\n",
    "\n",
    "Be sure to place these in the `nndl/` directory so they're imported correctly.  Note, as announced in class, we will not be releasing our solutions."
   ]
  },
  {
   "cell_type": "code",
   "execution_count": 1,
   "metadata": {},
   "outputs": [],
   "source": [
    "# As usual, a bit of setup\n",
    "\n",
    "import numpy as np\n",
    "import matplotlib.pyplot as plt\n",
    "from nndl.cnn import *\n",
    "from cs231n.data_utils import get_CIFAR10_data\n",
    "from cs231n.gradient_check import eval_numerical_gradient_array, eval_numerical_gradient\n",
    "from nndl.layers import *\n",
    "from nndl.conv_layers import *\n",
    "from cs231n.fast_layers import *\n",
    "from cs231n.solver import Solver\n",
    "\n",
    "%matplotlib inline\n",
    "plt.rcParams['figure.figsize'] = (10.0, 8.0) # set default size of plots\n",
    "plt.rcParams['image.interpolation'] = 'nearest'\n",
    "plt.rcParams['image.cmap'] = 'gray'\n",
    "\n",
    "# for auto-reloading external modules\n",
    "# see http://stackoverflow.com/questions/1907993/autoreload-of-modules-in-ipython\n",
    "%load_ext autoreload\n",
    "%autoreload 2\n",
    "\n",
    "def rel_error(x, y):\n",
    "  \"\"\" returns relative error \"\"\"\n",
    "  return np.max(np.abs(x - y) / (np.maximum(1e-8, np.abs(x) + np.abs(y))))"
   ]
  },
  {
   "cell_type": "code",
   "execution_count": 2,
   "metadata": {},
   "outputs": [
    {
     "name": "stdout",
     "output_type": "stream",
     "text": [
      "X_train: (49000, 3, 32, 32) \n",
      "y_train: (49000,) \n",
      "X_val: (1000, 3, 32, 32) \n",
      "y_val: (1000,) \n",
      "X_test: (1000, 3, 32, 32) \n",
      "y_test: (1000,) \n"
     ]
    }
   ],
   "source": [
    "# Load the (preprocessed) CIFAR10 data.\n",
    "\n",
    "data = get_CIFAR10_data()\n",
    "for k in data.keys():\n",
    "  print('{}: {} '.format(k, data[k].shape))"
   ]
  },
  {
   "cell_type": "markdown",
   "metadata": {},
   "source": [
    "## Three layer CNN\n",
    "\n",
    "In this notebook, you will implement a three layer CNN.  The `ThreeLayerConvNet` class is in `nndl/cnn.py`.  You'll need to modify that code for this section, including the initialization, as well as the calculation of the loss and gradients.  You should be able to use the building blocks you have either earlier coded or that we have provided.  Be sure to use the fast layers.\n",
    "\n",
    "The architecture of this CNN will be:\n",
    "\n",
    "conv - relu - 2x2 max pool - affine - relu - affine - softmax\n",
    "\n",
    "We won't use batchnorm yet.  You've also done enough of these to know how to debug; use the cells below.\n",
    "\n",
    "Note: As we are implementing several layers CNN networks. The gradient error can be expected for the `eval_numerical_gradient()` function. If your `W1 max relative error` and `W2 max relative error` are around or below 0.01, they should be acceptable. Other errors should be less than 1e-5. "
   ]
  },
  {
   "cell_type": "code",
   "execution_count": 9,
   "metadata": {},
   "outputs": [
    {
     "name": "stdout",
     "output_type": "stream",
     "text": [
      "W1 max relative error: 0.001155956811711998\n",
      "W2 max relative error: 0.013447729256961907\n",
      "W3 max relative error: 3.656595664340928e-05\n",
      "b1 max relative error: 1.975755645192451e-05\n",
      "b2 max relative error: 5.934999398522313e-07\n",
      "b3 max relative error: 9.561983989029964e-10\n"
     ]
    }
   ],
   "source": [
    "num_inputs = 2\n",
    "input_dim = (3, 16, 16)\n",
    "reg = 0.0\n",
    "num_classes = 10\n",
    "X = np.random.randn(num_inputs, *input_dim)\n",
    "y = np.random.randint(num_classes, size=num_inputs)\n",
    "\n",
    "model = ThreeLayerConvNet(num_filters=3, filter_size=3,\n",
    "                          input_dim=input_dim, hidden_dim=7,\n",
    "                          dtype=np.float64)\n",
    "loss, grads = model.loss(X, y)\n",
    "for param_name in sorted(grads):\n",
    "    f = lambda _: model.loss(X, y)[0]\n",
    "    param_grad_num = eval_numerical_gradient(f, model.params[param_name], verbose=False, h=1e-6)\n",
    "    e = rel_error(param_grad_num, grads[param_name])\n",
    "    print('{} max relative error: {}'.format(param_name, rel_error(param_grad_num, grads[param_name])))"
   ]
  },
  {
   "cell_type": "markdown",
   "metadata": {},
   "source": [
    "### Overfit small dataset\n",
    "\n",
    "To check your CNN implementation, let's overfit a small dataset."
   ]
  },
  {
   "cell_type": "code",
   "execution_count": 23,
   "metadata": {
    "collapsed": true
   },
   "outputs": [
    {
     "name": "stdout",
     "output_type": "stream",
     "text": [
      "(Iteration 1 / 30) loss: 2.383658\n",
      "(Epoch 0 / 15) train acc: 0.270000; val_acc: 0.140000\n",
      "(Iteration 2 / 30) loss: 2.839173\n",
      "(Epoch 1 / 15) train acc: 0.350000; val_acc: 0.171000\n",
      "(Iteration 3 / 30) loss: 2.702263\n",
      "(Iteration 4 / 30) loss: 1.950823\n",
      "(Epoch 2 / 15) train acc: 0.360000; val_acc: 0.155000\n",
      "(Iteration 5 / 30) loss: 1.652458\n",
      "(Iteration 6 / 30) loss: 1.839814\n",
      "(Epoch 3 / 15) train acc: 0.490000; val_acc: 0.158000\n",
      "(Iteration 7 / 30) loss: 1.287078\n",
      "(Iteration 8 / 30) loss: 1.735139\n",
      "(Epoch 4 / 15) train acc: 0.530000; val_acc: 0.177000\n",
      "(Iteration 9 / 30) loss: 1.486812\n",
      "(Iteration 10 / 30) loss: 1.205731\n",
      "(Epoch 5 / 15) train acc: 0.760000; val_acc: 0.208000\n",
      "(Iteration 11 / 30) loss: 0.722642\n",
      "(Iteration 12 / 30) loss: 0.880272\n",
      "(Epoch 6 / 15) train acc: 0.640000; val_acc: 0.226000\n",
      "(Iteration 13 / 30) loss: 0.947203\n",
      "(Iteration 14 / 30) loss: 0.905813\n",
      "(Epoch 7 / 15) train acc: 0.880000; val_acc: 0.240000\n",
      "(Iteration 15 / 30) loss: 0.659808\n",
      "(Iteration 16 / 30) loss: 0.382469\n",
      "(Epoch 8 / 15) train acc: 0.790000; val_acc: 0.235000\n",
      "(Iteration 17 / 30) loss: 0.566793\n",
      "(Iteration 18 / 30) loss: 0.663366\n",
      "(Epoch 9 / 15) train acc: 0.920000; val_acc: 0.233000\n",
      "(Iteration 19 / 30) loss: 0.314019\n",
      "(Iteration 20 / 30) loss: 0.215948\n",
      "(Epoch 10 / 15) train acc: 0.910000; val_acc: 0.197000\n",
      "(Iteration 21 / 30) loss: 0.221567\n",
      "(Iteration 22 / 30) loss: 0.249270\n",
      "(Epoch 11 / 15) train acc: 0.980000; val_acc: 0.224000\n",
      "(Iteration 23 / 30) loss: 0.164938\n",
      "(Iteration 24 / 30) loss: 0.117936\n",
      "(Epoch 12 / 15) train acc: 0.990000; val_acc: 0.225000\n",
      "(Iteration 25 / 30) loss: 0.074051\n",
      "(Iteration 26 / 30) loss: 0.084713\n",
      "(Epoch 13 / 15) train acc: 0.990000; val_acc: 0.234000\n",
      "(Iteration 27 / 30) loss: 0.082969\n",
      "(Iteration 28 / 30) loss: 0.054527\n",
      "(Epoch 14 / 15) train acc: 1.000000; val_acc: 0.242000\n",
      "(Iteration 29 / 30) loss: 0.035450\n",
      "(Iteration 30 / 30) loss: 0.030503\n",
      "(Epoch 15 / 15) train acc: 1.000000; val_acc: 0.248000\n"
     ]
    }
   ],
   "source": [
    "num_train = 100\n",
    "small_data = {\n",
    "  'X_train': data['X_train'][:num_train],\n",
    "  'y_train': data['y_train'][:num_train],\n",
    "  'X_val': data['X_val'],\n",
    "  'y_val': data['y_val'],\n",
    "}\n",
    "\n",
    "model = ThreeLayerConvNet(weight_scale=1e-2)\n",
    "\n",
    "solver = Solver(model, small_data,\n",
    "                num_epochs=15, batch_size=50,\n",
    "                update_rule='adam',\n",
    "                optim_config={\n",
    "                  'learning_rate': 1e-3,\n",
    "                },\n",
    "                verbose=True, print_every=1)\n",
    "solver.train()"
   ]
  },
  {
   "cell_type": "code",
   "execution_count": 24,
   "metadata": {},
   "outputs": [
    {
     "data": {
      "image/png": "[encoded data removed]",
      "text/plain": [
       "<matplotlib.figure.Figure at 0x1da3cac0400>"
      ]
     },
     "metadata": {},
     "output_type": "display_data"
    }
   ],
   "source": [
    "plt.subplot(2, 1, 1)\n",
    "plt.plot(solver.loss_history, 'o')\n",
    "plt.xlabel('iteration')\n",
    "plt.ylabel('loss')\n",
    "\n",
    "plt.subplot(2, 1, 2)\n",
    "plt.plot(solver.train_acc_history, '-o')\n",
    "plt.plot(solver.val_acc_history, '-o')\n",
    "plt.legend(['train', 'val'], loc='upper left')\n",
    "plt.xlabel('epoch')\n",
    "plt.ylabel('accuracy')\n",
    "plt.show()"
   ]
  },
  {
   "cell_type": "markdown",
   "metadata": {},
   "source": [
    "## Train the network\n",
    "\n",
    "Now we train the 3 layer CNN on CIFAR-10 and assess its accuracy."
   ]
  },
  {
   "cell_type": "code",
   "execution_count": 25,
   "metadata": {
    "scrolled": true
   },
   "outputs": [
    {
     "name": "stdout",
     "output_type": "stream",
     "text": [
      "(Iteration 1 / 980) loss: 2.304631\n",
      "(Epoch 0 / 1) train acc: 0.101000; val_acc: 0.113000\n",
      "(Iteration 21 / 980) loss: 2.136193\n",
      "(Iteration 41 / 980) loss: 2.042331\n",
      "(Iteration 61 / 980) loss: 2.178097\n",
      "(Iteration 81 / 980) loss: 2.040414\n",
      "(Iteration 101 / 980) loss: 1.950348\n",
      "(Iteration 121 / 980) loss: 1.757237\n",
      "(Iteration 141 / 980) loss: 1.869337\n",
      "(Iteration 161 / 980) loss: 1.879464\n",
      "(Iteration 181 / 980) loss: 1.811865\n",
      "(Iteration 201 / 980) loss: 1.902967\n",
      "(Iteration 221 / 980) loss: 1.900261\n",
      "(Iteration 241 / 980) loss: 1.775512\n",
      "(Iteration 261 / 980) loss: 1.532809\n",
      "(Iteration 281 / 980) loss: 1.742927\n",
      "(Iteration 301 / 980) loss: 1.775237\n",
      "(Iteration 321 / 980) loss: 1.801077\n",
      "(Iteration 341 / 980) loss: 2.017683\n",
      "(Iteration 361 / 980) loss: 1.650502\n",
      "(Iteration 381 / 980) loss: 1.558071\n",
      "(Iteration 401 / 980) loss: 1.698387\n",
      "(Iteration 421 / 980) loss: 1.637489\n",
      "(Iteration 441 / 980) loss: 1.482602\n",
      "(Iteration 461 / 980) loss: 1.735198\n",
      "(Iteration 481 / 980) loss: 1.726412\n",
      "(Iteration 501 / 980) loss: 1.682234\n",
      "(Iteration 521 / 980) loss: 1.522113\n",
      "(Iteration 541 / 980) loss: 1.540422\n",
      "(Iteration 561 / 980) loss: 1.679730\n",
      "(Iteration 581 / 980) loss: 1.839582\n",
      "(Iteration 601 / 980) loss: 1.584682\n",
      "(Iteration 621 / 980) loss: 1.998848\n",
      "(Iteration 641 / 980) loss: 1.612000\n",
      "(Iteration 661 / 980) loss: 1.630140\n",
      "(Iteration 681 / 980) loss: 1.450119\n",
      "(Iteration 701 / 980) loss: 1.943228\n",
      "(Iteration 721 / 980) loss: 1.694603\n",
      "(Iteration 741 / 980) loss: 1.662310\n",
      "(Iteration 761 / 980) loss: 1.550176\n",
      "(Iteration 781 / 980) loss: 1.644755\n",
      "(Iteration 801 / 980) loss: 1.378854\n",
      "(Iteration 821 / 980) loss: 1.395494\n",
      "(Iteration 841 / 980) loss: 1.243337\n",
      "(Iteration 861 / 980) loss: 1.604116\n",
      "(Iteration 881 / 980) loss: 1.639414\n",
      "(Iteration 901 / 980) loss: 1.613880\n",
      "(Iteration 921 / 980) loss: 1.503548\n",
      "(Iteration 941 / 980) loss: 1.754263\n",
      "(Iteration 961 / 980) loss: 1.575401\n",
      "(Epoch 1 / 1) train acc: 0.431000; val_acc: 0.455000\n"
     ]
    }
   ],
   "source": [
    "model = ThreeLayerConvNet(weight_scale=0.001, hidden_dim=500, reg=0.001)\n",
    "\n",
    "solver = Solver(model, data,\n",
    "                num_epochs=1, batch_size=50,\n",
    "                update_rule='adam',\n",
    "                optim_config={\n",
    "                  'learning_rate': 1e-3,\n",
    "                },\n",
    "                verbose=True, print_every=20)\n",
    "solver.train()"
   ]
  },
  {
   "cell_type": "markdown",
   "metadata": {},
   "source": [
    "# Get > 65% validation accuracy on CIFAR-10.\n",
    "\n",
    "In the last part of the assignment, we'll now ask you to train a CNN to get better than 65% validation accuracy on CIFAR-10.\n",
    "\n",
    "### Things you should try:\n",
    "- Filter size: Above we used 7x7; but VGGNet and onwards showed stacks of 3x3 filters are good.  \n",
    "- Number of filters: Above we used 32 filters. Do more or fewer do better?\n",
    "- Batch normalization: Try adding spatial batch normalization after convolution layers and vanilla batch normalization aafter affine layers. Do your networks train faster?\n",
    "- Network architecture: Can a deeper CNN do better?  Consider these architectures:\n",
    "    - [conv-relu-pool]xN - conv - relu - [affine]xM - [softmax or SVM]\n",
    "    - [conv-relu-pool]XN - [affine]XM - [softmax or SVM]\n",
    "    - [conv-relu-conv-relu-pool]xN - [affine]xM - [softmax or SVM]\n",
    "\n",
    "### Tips for training\n",
    "For each network architecture that you try, you should tune the learning rate and regularization strength. When doing this there are a couple important things to keep in mind:\n",
    "\n",
    "- If the parameters are working well, you should see improvement within a few hundred iterations\n",
    "- Remember the coarse-to-fine approach for hyperparameter tuning: start by testing a large range of hyperparameters for just a few training iterations to find the combinations of parameters that are working at all.\n",
    "- Once you have found some sets of parameters that seem to work, search more finely around these parameters. You may need to train for more epochs."
   ]
  },
  {
   "cell_type": "code",
   "execution_count": 4,
   "metadata": {
    "scrolled": false
   },
   "outputs": [
    {
     "name": "stdout",
     "output_type": "stream",
     "text": [
      "(Iteration 1 / 3660) loss: 2.343646\n",
      "(Epoch 0 / 30) train acc: 0.115000; val_acc: 0.093000\n",
      "(Iteration 101 / 3660) loss: 2.334713\n",
      "(Epoch 1 / 30) train acc: 0.149000; val_acc: 0.148000\n",
      "(Iteration 201 / 3660) loss: 1.960433\n",
      "(Epoch 2 / 30) train acc: 0.362000; val_acc: 0.358000\n",
      "(Iteration 301 / 3660) loss: 1.712685\n",
      "(Epoch 3 / 30) train acc: 0.434000; val_acc: 0.456000\n",
      "(Iteration 401 / 3660) loss: 1.475340\n",
      "(Epoch 4 / 30) train acc: 0.493000; val_acc: 0.499000\n",
      "(Iteration 501 / 3660) loss: 1.368990\n",
      "(Iteration 601 / 3660) loss: 1.331165\n",
      "(Epoch 5 / 30) train acc: 0.587000; val_acc: 0.560000\n",
      "(Iteration 701 / 3660) loss: 1.294418\n",
      "(Epoch 6 / 30) train acc: 0.591000; val_acc: 0.564000\n",
      "(Iteration 801 / 3660) loss: 1.173646\n",
      "(Epoch 7 / 30) train acc: 0.656000; val_acc: 0.589000\n",
      "(Iteration 901 / 3660) loss: 1.312911\n",
      "(Epoch 8 / 30) train acc: 0.656000; val_acc: 0.610000\n",
      "(Iteration 1001 / 3660) loss: 1.153269\n",
      "(Epoch 9 / 30) train acc: 0.658000; val_acc: 0.621000\n",
      "(Iteration 1101 / 3660) loss: 1.074822\n",
      "(Iteration 1201 / 3660) loss: 1.034641\n",
      "(Epoch 10 / 30) train acc: 0.700000; val_acc: 0.639000\n",
      "(Iteration 1301 / 3660) loss: 1.005374\n",
      "(Epoch 11 / 30) train acc: 0.671000; val_acc: 0.641000\n",
      "(Iteration 1401 / 3660) loss: 1.044196\n",
      "(Epoch 12 / 30) train acc: 0.681000; val_acc: 0.645000\n",
      "(Iteration 1501 / 3660) loss: 1.109521\n",
      "(Epoch 13 / 30) train acc: 0.733000; val_acc: 0.644000\n",
      "(Iteration 1601 / 3660) loss: 0.983780\n",
      "(Iteration 1701 / 3660) loss: 1.000852\n",
      "(Epoch 14 / 30) train acc: 0.709000; val_acc: 0.639000\n",
      "(Iteration 1801 / 3660) loss: 1.015464\n",
      "(Epoch 15 / 30) train acc: 0.753000; val_acc: 0.661000\n",
      "(Iteration 1901 / 3660) loss: 0.900919\n",
      "(Epoch 16 / 30) train acc: 0.745000; val_acc: 0.663000\n",
      "(Iteration 2001 / 3660) loss: 0.885314\n",
      "(Epoch 17 / 30) train acc: 0.758000; val_acc: 0.648000\n",
      "(Iteration 2101 / 3660) loss: 0.816583\n",
      "(Epoch 18 / 30) train acc: 0.745000; val_acc: 0.641000\n",
      "(Iteration 2201 / 3660) loss: 0.953510\n",
      "(Iteration 2301 / 3660) loss: 0.889222\n",
      "(Epoch 19 / 30) train acc: 0.778000; val_acc: 0.669000\n",
      "(Iteration 2401 / 3660) loss: 0.896942\n",
      "(Epoch 20 / 30) train acc: 0.781000; val_acc: 0.668000\n",
      "(Iteration 2501 / 3660) loss: 0.821964\n",
      "(Epoch 21 / 30) train acc: 0.774000; val_acc: 0.655000\n",
      "(Iteration 2601 / 3660) loss: 0.842684\n",
      "(Epoch 22 / 30) train acc: 0.813000; val_acc: 0.656000\n",
      "(Iteration 2701 / 3660) loss: 0.867283\n",
      "(Iteration 2801 / 3660) loss: 0.876229\n",
      "(Epoch 23 / 30) train acc: 0.799000; val_acc: 0.656000\n",
      "(Iteration 2901 / 3660) loss: 0.945175\n",
      "(Epoch 24 / 30) train acc: 0.826000; val_acc: 0.679000\n",
      "(Iteration 3001 / 3660) loss: 0.762660\n",
      "(Epoch 25 / 30) train acc: 0.830000; val_acc: 0.659000\n",
      "(Iteration 3101 / 3660) loss: 0.778804\n",
      "(Epoch 26 / 30) train acc: 0.848000; val_acc: 0.679000\n",
      "(Iteration 3201 / 3660) loss: 0.827826\n",
      "(Epoch 27 / 30) train acc: 0.837000; val_acc: 0.674000\n",
      "(Iteration 3301 / 3660) loss: 0.823233\n",
      "(Iteration 3401 / 3660) loss: 0.777346\n",
      "(Epoch 28 / 30) train acc: 0.841000; val_acc: 0.676000\n",
      "(Iteration 3501 / 3660) loss: 0.838308\n",
      "(Epoch 29 / 30) train acc: 0.834000; val_acc: 0.678000\n",
      "(Iteration 3601 / 3660) loss: 0.762511\n",
      "(Epoch 30 / 30) train acc: 0.860000; val_acc: 0.663000\n"
     ]
    }
   ],
   "source": [
    "# ================================================================ #\n",
    "# YOUR CODE HERE:\n",
    "#   Implement a CNN to achieve greater than 65% validation accuracy\n",
    "#   on CIFAR-10.\n",
    "# ================================================================ #\n",
    "best_model = ThreeLayerConvNet(weight_scale=0.001,num_filters=32,filter_size=3, hidden_dim=100, reg=0.1)\n",
    "\n",
    "solver_new = Solver(best_model, data,\n",
    "                num_epochs=30, batch_size=400,\n",
    "                update_rule='sgd_momentum',\n",
    "                optim_config={\n",
    "                  'learning_rate': 1e-3,\n",
    "                },\n",
    "                lr_decay = 0.95,\n",
    "                verbose=True, print_every=100)\n",
    "solver_new.train()\n",
    "\n",
    "# ================================================================ #\n",
    "# END YOUR CODE HERE\n",
    "# ================================================================ #\n"
   ]
  },
  {
   "cell_type": "code",
   "execution_count": 5,
   "metadata": {},
   "outputs": [
    {
     "name": "stdout",
     "output_type": "stream",
     "text": [
      "Validation set accuracy:  0.679\n",
      "Test set accuracy:  0.672\n"
     ]
    }
   ],
   "source": [
    "y_test_pred = np.argmax(best_model.loss(data['X_test']), axis=1)\n",
    "y_val_pred = np.argmax(best_model.loss(data['X_val']), axis=1)\n",
    "print('Validation set accuracy: ', (y_val_pred == data['y_val']).mean())\n",
    "print('Test set accuracy: ', (y_test_pred == data['y_test']).mean())"
   ]
  },
  {
   "cell_type": "code",
   "execution_count": null,
   "metadata": {},
   "outputs": [],
   "source": []
  }
 ],
 "metadata": {
  "kernelspec": {
   "display_name": "Python 3",
   "language": "python",
   "name": "python3"
  },
  "language_info": {
   "codemirror_mode": {
    "name": "ipython",
    "version": 3
   },
   "file_extension": ".py",
   "mimetype": "text/x-python",
   "name": "python",
   "nbconvert_exporter": "python",
   "pygments_lexer": "ipython3",
   "version": "3.6.3"
  }
 },
 "nbformat": 4,
 "nbformat_minor": 2
}
